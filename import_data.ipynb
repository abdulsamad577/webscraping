{
 "cells": [
  {
   "cell_type": "code",
   "execution_count": null,
   "metadata": {},
   "outputs": [],
   "source": []
  },
  {
   "cell_type": "code",
   "execution_count": 2,
   "metadata": {},
   "outputs": [
    {
     "data": {
      "text/html": [
       "<div>\n",
       "<style scoped>\n",
       "    .dataframe tbody tr th:only-of-type {\n",
       "        vertical-align: middle;\n",
       "    }\n",
       "\n",
       "    .dataframe tbody tr th {\n",
       "        vertical-align: top;\n",
       "    }\n",
       "\n",
       "    .dataframe thead th {\n",
       "        text-align: right;\n",
       "    }\n",
       "</style>\n",
       "<table border=\"1\" class=\"dataframe\">\n",
       "  <thead>\n",
       "    <tr style=\"text-align: right;\">\n",
       "      <th></th>\n",
       "      <th>Open</th>\n",
       "      <th>High</th>\n",
       "      <th>Low</th>\n",
       "      <th>Close</th>\n",
       "      <th>Volume</th>\n",
       "      <th>Dividends</th>\n",
       "      <th>Stock Splits</th>\n",
       "    </tr>\n",
       "    <tr>\n",
       "      <th>Date</th>\n",
       "      <th></th>\n",
       "      <th></th>\n",
       "      <th></th>\n",
       "      <th></th>\n",
       "      <th></th>\n",
       "      <th></th>\n",
       "      <th></th>\n",
       "    </tr>\n",
       "  </thead>\n",
       "  <tbody>\n",
       "    <tr>\n",
       "      <th>1986-03-13 00:00:00-05:00</th>\n",
       "      <td>0.054376</td>\n",
       "      <td>0.062373</td>\n",
       "      <td>0.054376</td>\n",
       "      <td>0.059707</td>\n",
       "      <td>1031788800</td>\n",
       "      <td>0.0</td>\n",
       "      <td>0.0</td>\n",
       "    </tr>\n",
       "    <tr>\n",
       "      <th>1986-03-14 00:00:00-05:00</th>\n",
       "      <td>0.059707</td>\n",
       "      <td>0.062906</td>\n",
       "      <td>0.059707</td>\n",
       "      <td>0.061839</td>\n",
       "      <td>308160000</td>\n",
       "      <td>0.0</td>\n",
       "      <td>0.0</td>\n",
       "    </tr>\n",
       "    <tr>\n",
       "      <th>1986-03-17 00:00:00-05:00</th>\n",
       "      <td>0.061839</td>\n",
       "      <td>0.063439</td>\n",
       "      <td>0.061839</td>\n",
       "      <td>0.062906</td>\n",
       "      <td>133171200</td>\n",
       "      <td>0.0</td>\n",
       "      <td>0.0</td>\n",
       "    </tr>\n",
       "    <tr>\n",
       "      <th>1986-03-18 00:00:00-05:00</th>\n",
       "      <td>0.062906</td>\n",
       "      <td>0.063439</td>\n",
       "      <td>0.060773</td>\n",
       "      <td>0.061306</td>\n",
       "      <td>67766400</td>\n",
       "      <td>0.0</td>\n",
       "      <td>0.0</td>\n",
       "    </tr>\n",
       "    <tr>\n",
       "      <th>1986-03-19 00:00:00-05:00</th>\n",
       "      <td>0.061306</td>\n",
       "      <td>0.061839</td>\n",
       "      <td>0.059707</td>\n",
       "      <td>0.060240</td>\n",
       "      <td>47894400</td>\n",
       "      <td>0.0</td>\n",
       "      <td>0.0</td>\n",
       "    </tr>\n",
       "  </tbody>\n",
       "</table>\n",
       "</div>"
      ],
      "text/plain": [
       "                               Open      High       Low     Close      Volume  \\\n",
       "Date                                                                            \n",
       "1986-03-13 00:00:00-05:00  0.054376  0.062373  0.054376  0.059707  1031788800   \n",
       "1986-03-14 00:00:00-05:00  0.059707  0.062906  0.059707  0.061839   308160000   \n",
       "1986-03-17 00:00:00-05:00  0.061839  0.063439  0.061839  0.062906   133171200   \n",
       "1986-03-18 00:00:00-05:00  0.062906  0.063439  0.060773  0.061306    67766400   \n",
       "1986-03-19 00:00:00-05:00  0.061306  0.061839  0.059707  0.060240    47894400   \n",
       "\n",
       "                           Dividends  Stock Splits  \n",
       "Date                                                \n",
       "1986-03-13 00:00:00-05:00        0.0           0.0  \n",
       "1986-03-14 00:00:00-05:00        0.0           0.0  \n",
       "1986-03-17 00:00:00-05:00        0.0           0.0  \n",
       "1986-03-18 00:00:00-05:00        0.0           0.0  \n",
       "1986-03-19 00:00:00-05:00        0.0           0.0  "
      ]
     },
     "execution_count": 2,
     "metadata": {},
     "output_type": "execute_result"
    }
   ],
   "source": [
    "import yfinance as yf\n",
    "# Download historical data for a stock\n",
    "msft = yf.Ticker(\"MSFT\")\n",
    "msft_data = msft.history(period=\"max\")\n",
    "# Display the downloaded data\n",
    "msft_data.head()"
   ]
  },
  {
   "cell_type": "code",
   "execution_count": 4,
   "metadata": {},
   "outputs": [
    {
     "data": {
      "text/plain": [
       "(9813, 7)"
      ]
     },
     "execution_count": 4,
     "metadata": {},
     "output_type": "execute_result"
    }
   ],
   "source": [
    "msft_data.shape\n"
   ]
  }
 ],
 "metadata": {
  "kernelspec": {
   "display_name": "webscraping",
   "language": "python",
   "name": "python3"
  },
  "language_info": {
   "codemirror_mode": {
    "name": "ipython",
    "version": 3
   },
   "file_extension": ".py",
   "mimetype": "text/x-python",
   "name": "python",
   "nbconvert_exporter": "python",
   "pygments_lexer": "ipython3",
   "version": "3.13.2"
  }
 },
 "nbformat": 4,
 "nbformat_minor": 2
}
